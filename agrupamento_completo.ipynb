{
 "cells": [
  {
   "attachments": {},
   "cell_type": "markdown",
   "metadata": {},
   "source": [
    "# Aprendizado de máquina: Agrupamento\n",
    "\n",
    "![1](imagens/1.png)"
   ]
  },
  {
   "attachments": {},
   "cell_type": "markdown",
   "metadata": {},
   "source": [
    "### Método K-Means:\n",
    "\n",
    "O método K-Means funciona da seguinte forma:\n",
    "\n",
    "- É escolido o numero de agrupamentos (clusters), que é o valor de K;\n",
    "- O algoritimo posiciona aleatoriamente centroides de acordo com K;\n",
    "- As centroides por iteração são reposicionadas para se obter a menor distancia entre dados do mesmo agrupamento.\n",
    "\n",
    "![2](imagens/2.jpg)"
   ]
  },
  {
   "attachments": {},
   "cell_type": "markdown",
   "metadata": {},
   "source": [
    "### Criação dos dados:"
   ]
  },
  {
   "cell_type": "code",
   "execution_count": null,
   "metadata": {},
   "outputs": [],
   "source": [
    "from sklearn.datasets import make_blobs\n",
    "\n",
    "data, labels = make_blobs(n_samples=400, n_features=2, centers=3, cluster_std=0.5, shuffle=True)"
   ]
  },
  {
   "attachments": {},
   "cell_type": "markdown",
   "metadata": {},
   "source": [
    "### Visualização dos dados:"
   ]
  },
  {
   "cell_type": "code",
   "execution_count": null,
   "metadata": {},
   "outputs": [],
   "source": [
    "import matplotlib.pyplot as plt\n",
    "\n",
    "plt.scatter(data[:, 0], data[:, 1], edgecolors='black')\n",
    "plt.show()"
   ]
  },
  {
   "attachments": {},
   "cell_type": "markdown",
   "metadata": {},
   "source": [
    "### Treinamento do modelo:"
   ]
  },
  {
   "cell_type": "code",
   "execution_count": null,
   "metadata": {},
   "outputs": [],
   "source": [
    "from sklearn.cluster import KMeans\n",
    "\n",
    "kmeans = KMeans(n_clusters=3)\n",
    "kmeans.fit(data)"
   ]
  },
  {
   "attachments": {},
   "cell_type": "markdown",
   "metadata": {},
   "source": [
    "### Predição com os dados do treinamento:"
   ]
  },
  {
   "cell_type": "code",
   "execution_count": null,
   "metadata": {},
   "outputs": [],
   "source": [
    "predict = kmeans.predict(data)\n",
    "\n",
    "centers = kmeans.cluster_centers_\n",
    "\n",
    "g1 = data[predict == 0]\n",
    "g2 = data[predict == 1]\n",
    "g3 = data[predict == 2]"
   ]
  },
  {
   "attachments": {},
   "cell_type": "markdown",
   "metadata": {},
   "source": [
    "### Visualização dos dados preditos:"
   ]
  },
  {
   "cell_type": "code",
   "execution_count": null,
   "metadata": {},
   "outputs": [],
   "source": [
    "plt.scatter(g1[:, 0], g1[:, 1], c=\"green\", label=\"Grupo 1\", edgecolors='black')\n",
    "plt.scatter(g2[:, 0], g2[:, 1], c=\"blue\", label=\"Grupo 2\", edgecolors='black')\n",
    "plt.scatter(g3[:, 0], g3[:, 1], c=\"red\", label=\"Grupo 3\", edgecolors='black')\n",
    "plt.scatter(centers[:, 0], centers[:, 1], c=\"orange\", label=\"Centros\", marker=\"*\")\n",
    "\n",
    "plt.legend(scatterpoints=1)\n",
    "\n",
    "plt.show()"
   ]
  },
  {
   "attachments": {},
   "cell_type": "markdown",
   "metadata": {},
   "source": [
    "### Métodos avaliativos:\n",
    "\n",
    "- Calinski-Harabasz Index: O índice CH (também conhecido como critério de razão de variância ) é uma medida de quão semelhante um objeto é ao seu próprio cluster (coesão) em comparação com outros clusters (separação). Quanto maior o valor, melhor a divisão.\n",
    "\n",
    "- Silhouette Score: Pontuação de silueta baseado na média de distancias dentre dados do mesmo clusters e entre diferente clusters. Varia de -1 a 1 e quanto mais proximo de 1, melhor."
   ]
  },
  {
   "cell_type": "code",
   "execution_count": null,
   "metadata": {},
   "outputs": [],
   "source": [
    "from sklearn.metrics import calinski_harabasz_score, silhouette_score\n",
    "\n",
    "print('Calinski-Harabasz Index:', calinski_harabasz_score(data, kmeans.labels_))\n",
    "print('Silhouette Score:', silhouette_score(data, kmeans.labels_))"
   ]
  },
  {
   "attachments": {},
   "cell_type": "markdown",
   "metadata": {},
   "source": [
    "### _**Mas como saber qual valor de K (clusters) usar para um determinado dataset?**_\n",
    "\n",
    "### Elbow Method:\n",
    "\n",
    "Vamos extrair métricas avaliativas de diferentes modelos K-Means com valores de K diferentes para decidir qual será o melhor. Através do grafico (Métrica x K) é possivel inferir o valor de K através do menor ponto onde a hipérbole tende a se manter constante."
   ]
  },
  {
   "attachments": {},
   "cell_type": "markdown",
   "metadata": {},
   "source": [
    "### Importando dataset:"
   ]
  },
  {
   "cell_type": "code",
   "execution_count": null,
   "metadata": {},
   "outputs": [],
   "source": [
    "import pandas as pd\n",
    "# data = pd.read_csv('clustering_data.csv', sep=';')\n",
    "\n",
    "import io\n",
    "from google.colab import files\n",
    "\n",
    "uploaded = files.upload()\n",
    "file = io.BytesIO(uploaded['clustering_data.csv'])\n",
    "data2 = pd.read_csv(file, sep=';')\n",
    "\n",
    "data2.head()"
   ]
  },
  {
   "attachments": {},
   "cell_type": "markdown",
   "metadata": {},
   "source": [
    "### Tratamento dos dados:"
   ]
  },
  {
   "cell_type": "code",
   "execution_count": null,
   "metadata": {},
   "outputs": [],
   "source": [
    "# Exclusão dos elementos inválidos ('NaN' ou 'None'):\n",
    "\n",
    "print(\"Total de dados:\", len(data2))\n",
    "display(data2.isna().any())\n",
    "data2 = data2.dropna()\n",
    "print(\"Total de dados:\", len(data2))\n",
    "\n",
    "import numpy as np\n",
    "\n",
    "data2 = np.array(data2)"
   ]
  },
  {
   "attachments": {},
   "cell_type": "markdown",
   "metadata": {},
   "source": [
    "### Visualização:"
   ]
  },
  {
   "cell_type": "code",
   "execution_count": null,
   "metadata": {},
   "outputs": [],
   "source": [
    "plt.scatter(data2[\"f1\"], data2[\"f2\"], edgecolors='black')\n",
    "plt.show()"
   ]
  },
  {
   "attachments": {},
   "cell_type": "markdown",
   "metadata": {},
   "source": [
    "### Elbow Method:"
   ]
  },
  {
   "cell_type": "code",
   "execution_count": null,
   "metadata": {},
   "outputs": [],
   "source": [
    "em = []\n",
    "for i in range(1, 21):\n",
    "    km = KMeans(n_clusters=i)\n",
    "    km.fit(data2)\n",
    "    em.append(km.inertia_)"
   ]
  },
  {
   "attachments": {},
   "cell_type": "markdown",
   "metadata": {},
   "source": [
    "![3](imagens/3.png)"
   ]
  },
  {
   "cell_type": "code",
   "execution_count": null,
   "metadata": {},
   "outputs": [],
   "source": [
    "plt.plot(range(1, 21), em, marker='o')\n",
    "plt.xlabel(\"Quantidade de Clusters\")\n",
    "plt.ylabel(\"Métrica de avaliação\")\n",
    "plt.xticks(range(1, 21))\n",
    "\n",
    "plt.show()"
   ]
  },
  {
   "attachments": {},
   "cell_type": "markdown",
   "metadata": {},
   "source": [
    "### Treinando modelo com valor inferido:"
   ]
  },
  {
   "cell_type": "code",
   "execution_count": null,
   "metadata": {},
   "outputs": [],
   "source": [
    "kmeans2 = KMeans(n_clusters=13)\n",
    "kmeans2.fit(data2)"
   ]
  },
  {
   "attachments": {},
   "cell_type": "markdown",
   "metadata": {},
   "source": [
    "### Predição e visualização:"
   ]
  },
  {
   "cell_type": "code",
   "execution_count": null,
   "metadata": {},
   "outputs": [],
   "source": [
    "predict2 = kmeans2.predict(data2)\n",
    "\n",
    "centers2 = kmeans2.cluster_centers_\n",
    "\n",
    "for i in range(13):\n",
    "    g = data2[predict2 == i]\n",
    "    plt.scatter(g[:,0] ,g[:,1], c=np.random.rand(3), edgecolors='black')\n",
    "    \n",
    "plt.scatter(centers2[:, 0], centers2[:, 1], c=\"white\", marker=\"*\")\n",
    "\n",
    "plt.show()"
   ]
  },
  {
   "attachments": {},
   "cell_type": "markdown",
   "metadata": {},
   "source": [
    "### Avaliando modelo:"
   ]
  },
  {
   "cell_type": "code",
   "execution_count": null,
   "metadata": {},
   "outputs": [],
   "source": [
    "print('Calinski-Harabasz Index:', calinski_harabasz_score(data2, kmeans2.labels_))\n",
    "print('Silhouette Score:', silhouette_score(data2, kmeans2.labels_))"
   ]
  }
 ],
 "metadata": {
  "language_info": {
   "name": "python"
  },
  "orig_nbformat": 4
 },
 "nbformat": 4,
 "nbformat_minor": 2
}
